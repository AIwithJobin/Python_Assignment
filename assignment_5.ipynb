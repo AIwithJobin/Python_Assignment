{
 "cells": [
  {
   "cell_type": "code",
   "execution_count": 1,
   "metadata": {},
   "outputs": [
    {
     "name": "stdout",
     "output_type": "stream",
     "text": [
      "File not found.\n"
     ]
    }
   ],
   "source": [
    "#Exercise 1\n",
    "def read_file(file_name):\n",
    "    try:\n",
    "        with open(file_name, 'r') as file:\n",
    "            contents = file.read()\n",
    "            print(contents)\n",
    "    except FileNotFoundError:\n",
    "        print(\"File not found.\")\n",
    "\n",
    "# Example usage:\n",
    "read_file(\"example.txt\")"
   ]
  },
  {
   "cell_type": "code",
   "execution_count": 2,
   "metadata": {},
   "outputs": [
    {
     "name": "stdout",
     "output_type": "stream",
     "text": [
      "Source file not found.\n"
     ]
    }
   ],
   "source": [
    "#Exercise 2\n",
    "def copy_file(source, destination):\n",
    "    try:\n",
    "        with open(source, 'r') as src_file:\n",
    "            contents = src_file.read()\n",
    "        with open(destination, 'w') as dest_file:\n",
    "            dest_file.write(contents)\n",
    "        print(\"File copied successfully.\")\n",
    "    except FileNotFoundError:\n",
    "        print(\"Source file not found.\")\n",
    "\n",
    "# Example usage:\n",
    "copy_file(\"source.txt\", \"destination.txt\")"
   ]
  },
  {
   "cell_type": "code",
   "execution_count": 3,
   "metadata": {},
   "outputs": [
    {
     "name": "stdout",
     "output_type": "stream",
     "text": [
      "File not found.\n"
     ]
    }
   ],
   "source": [
    "#Exercise 3\n",
    "def count_words_in_file(file_name):\n",
    "    try:\n",
    "        with open(file_name, 'r') as file:\n",
    "            contents = file.read()\n",
    "            words = contents.split()\n",
    "            print(f\"Total number of words: {len(words)}\")\n",
    "    except FileNotFoundError:\n",
    "        print(\"File not found.\")\n",
    "\n",
    "# Example usage:\n",
    "count_words_in_file(\"example.txt\")"
   ]
  },
  {
   "cell_type": "code",
   "execution_count": 4,
   "metadata": {},
   "outputs": [
    {
     "name": "stdout",
     "output_type": "stream",
     "text": [
      "The integer is 5\n"
     ]
    }
   ],
   "source": [
    "#Exercise 4\n",
    "def convert_to_int():\n",
    "    user_input = input(\"Enter a number: \")\n",
    "    try:\n",
    "        num = int(user_input)\n",
    "        print(f\"The integer is {num}\")\n",
    "    except ValueError:\n",
    "        print(\"Invalid input. Please enter a valid integer.\")\n",
    "\n",
    "# Example usage:\n",
    "convert_to_int()\n"
   ]
  },
  {
   "cell_type": "code",
   "execution_count": 5,
   "metadata": {},
   "outputs": [
    {
     "name": "stdout",
     "output_type": "stream",
     "text": [
      "All integers are non-negative.\n"
     ]
    }
   ],
   "source": [
    "#Exercise 5\n",
    "def check_negative_integers():\n",
    "    try:\n",
    "        user_input = input(\"Enter a list of integers (comma-separated): \")\n",
    "        int_list = [int(x) for x in user_input.split(',')]\n",
    "        for num in int_list:\n",
    "            if num < 0:\n",
    "                raise ValueError(\"Negative integer detected.\")\n",
    "        print(\"All integers are non-negative.\")\n",
    "    except ValueError as e:\n",
    "        print(f\"Error: {e}\")\n",
    "\n",
    "# Example usage:\n",
    "check_negative_integers()\n"
   ]
  },
  {
   "cell_type": "code",
   "execution_count": 6,
   "metadata": {},
   "outputs": [
    {
     "name": "stdout",
     "output_type": "stream",
     "text": [
      "The average is: 5.75\n",
      "Program execution finished.\n"
     ]
    }
   ],
   "source": [
    "#Exercise 6\n",
    "def compute_average():\n",
    "    try:\n",
    "        user_input = input(\"Enter a list of integers (comma-separated): \")\n",
    "        int_list = [int(x) for x in user_input.split(',')]\n",
    "        average = sum(int_list) / len(int_list)\n",
    "        print(f\"The average is: {average}\")\n",
    "    except ValueError:\n",
    "        print(\"Invalid input. Please enter valid integers.\")\n",
    "    except ZeroDivisionError:\n",
    "        print(\"The list cannot be empty.\")\n",
    "    finally:\n",
    "        print(\"Program execution finished.\")\n",
    "\n",
    "# Example usage:\n",
    "compute_average()\n"
   ]
  },
  {
   "cell_type": "code",
   "execution_count": 7,
   "metadata": {},
   "outputs": [
    {
     "name": "stdout",
     "output_type": "stream",
     "text": [
      "An error occurred: [Errno 2] No such file or directory: ''\n"
     ]
    }
   ],
   "source": [
    "#Exercise 7\n",
    "def write_to_file():\n",
    "    file_name = input(\"Enter the filename: \")\n",
    "    text = input(\"Enter the text to write to the file: \")\n",
    "    try:\n",
    "        with open(file_name, 'w') as file:\n",
    "            file.write(text)\n",
    "        print(\"Text written to file successfully.\")\n",
    "    except Exception as e:\n",
    "        print(f\"An error occurred: {e}\")\n",
    "    else:\n",
    "        print(\"Welcome! No exceptions occurred.\")\n",
    "\n",
    "# Example usage:\n",
    "write_to_file()"
   ]
  },
  {
   "cell_type": "code",
   "execution_count": null,
   "metadata": {},
   "outputs": [],
   "source": []
  }
 ],
 "metadata": {
  "kernelspec": {
   "display_name": "Python 3",
   "language": "python",
   "name": "python3"
  },
  "language_info": {
   "codemirror_mode": {
    "name": "ipython",
    "version": 3
   },
   "file_extension": ".py",
   "mimetype": "text/x-python",
   "name": "python",
   "nbconvert_exporter": "python",
   "pygments_lexer": "ipython3",
   "version": "3.12.4"
  }
 },
 "nbformat": 4,
 "nbformat_minor": 2
}
