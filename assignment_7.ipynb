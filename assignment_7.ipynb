{
 "cells": [
  {
   "cell_type": "code",
   "execution_count": 1,
   "metadata": {},
   "outputs": [
    {
     "name": "stdout",
     "output_type": "stream",
     "text": [
      "Exercise 1 - 2x5 Matrix:\n",
      " [[ 1  2  3  4  5]\n",
      " [ 6  7  8  9 10]]\n"
     ]
    }
   ],
   "source": [
    "import numpy as np\n",
    "import pandas as pd\n",
    "\n",
    "# Exercise 1\n",
    "arr1 = np.arange(1, 11)\n",
    "reshaped_arr = arr1.reshape(2, 5)\n",
    "print(\"Exercise 1 - 2x5 Matrix:\\n\", reshaped_arr)\n"
   ]
  },
  {
   "cell_type": "code",
   "execution_count": 2,
   "metadata": {},
   "outputs": [
    {
     "name": "stdout",
     "output_type": "stream",
     "text": [
      "\n",
      "Exercise 2 - Extracted elements (index 5 to 15):\n",
      " [ 6  7  8  9 10 11 12 13 14 15 16]\n"
     ]
    }
   ],
   "source": [
    "# Exercise 2\n",
    "arr2 = np.arange(1, 21)\n",
    "extracted = arr2[5:16]\n",
    "print(\"\\nExercise 2 - Extracted elements (index 5 to 15):\\n\", extracted)\n"
   ]
  },
  {
   "cell_type": "code",
   "execution_count": 3,
   "metadata": {},
   "outputs": [
    {
     "name": "stdout",
     "output_type": "stream",
     "text": [
      "\n",
      "Exercise 3 - Updated Series:\n",
      " apples     3\n",
      "bananas    2\n",
      "oranges    1\n",
      "pears      4\n",
      "dtype: int64\n"
     ]
    }
   ],
   "source": [
    "# Exercise 3\n",
    "fruit_series = pd.Series({'apples': 3, 'bananas': 2, 'oranges': 1})\n",
    "fruit_series['pears'] = 4\n",
    "print(\"\\nExercise 3 - Updated Series:\\n\", fruit_series)\n"
   ]
  },
  {
   "cell_type": "code",
   "execution_count": 4,
   "metadata": {},
   "outputs": [
    {
     "name": "stdout",
     "output_type": "stream",
     "text": [
      "\n",
      "Exercise 4 - DataFrame:\n",
      "       name  age gender\n",
      "0    Alice   25      F\n",
      "1      Bob   30      M\n",
      "2  Charlie   35      M\n",
      "3    David   40      M\n",
      "4      Eva   22      F\n",
      "5    Frank   28      M\n",
      "6    Grace   33      F\n",
      "7    Helen   45      F\n",
      "8      Ian   26      M\n",
      "9     Jane   38      F\n"
     ]
    }
   ],
   "source": [
    "# Exercise 4\n",
    "data = {\n",
    "    'name': ['Alice', 'Bob', 'Charlie', 'David', 'Eva', 'Frank', 'Grace', 'Helen', 'Ian', 'Jane'],\n",
    "    'age': [25, 30, 35, 40, 22, 28, 33, 45, 26, 38],\n",
    "    'gender': ['F', 'M', 'M', 'M', 'F', 'M', 'F', 'F', 'M', 'F']\n",
    "}\n",
    "df = pd.DataFrame(data)\n",
    "print(\"\\nExercise 4 - DataFrame:\\n\", df)\n"
   ]
  },
  {
   "cell_type": "code",
   "execution_count": 5,
   "metadata": {},
   "outputs": [
    {
     "name": "stdout",
     "output_type": "stream",
     "text": [
      "\n",
      "Exercise 5 - DataFrame with Occupation:\n",
      "       name  age gender  occupation\n",
      "0    Alice   25      F  Programmer\n",
      "1      Bob   30      M     Manager\n",
      "2  Charlie   35      M     Analyst\n",
      "3    David   40      M  Programmer\n",
      "4      Eva   22      F     Analyst\n",
      "5    Frank   28      M     Manager\n",
      "6    Grace   33      F  Programmer\n",
      "7    Helen   45      F     Manager\n",
      "8      Ian   26      M     Analyst\n",
      "9     Jane   38      F  Programmer\n"
     ]
    }
   ],
   "source": [
    "# Exercise 5\n",
    "occupations = ['Programmer', 'Manager', 'Analyst', 'Programmer', 'Analyst', 'Manager', 'Programmer', 'Manager', 'Analyst', 'Programmer']\n",
    "df['occupation'] = occupations\n",
    "print(\"\\nExercise 5 - DataFrame with Occupation:\\n\", df)\n"
   ]
  },
  {
   "cell_type": "code",
   "execution_count": 6,
   "metadata": {},
   "outputs": [
    {
     "name": "stdout",
     "output_type": "stream",
     "text": [
      "\n",
      "Exercise 6 - Age >= 30:\n",
      "       name  age gender  occupation\n",
      "1      Bob   30      M     Manager\n",
      "2  Charlie   35      M     Analyst\n",
      "3    David   40      M  Programmer\n",
      "6    Grace   33      F  Programmer\n",
      "7    Helen   45      F     Manager\n",
      "9     Jane   38      F  Programmer\n"
     ]
    }
   ],
   "source": [
    "# Exercise 6\n",
    "age_filtered_df = df[df['age'] >= 30]\n",
    "print(\"\\nExercise 6 - Age >= 30:\\n\", age_filtered_df)\n"
   ]
  },
  {
   "cell_type": "code",
   "execution_count": 7,
   "metadata": {},
   "outputs": [
    {
     "name": "stdout",
     "output_type": "stream",
     "text": [
      "\n",
      "Exercise 7 - Read CSV:\n",
      "       name  age gender  occupation\n",
      "0    Alice   25      F  Programmer\n",
      "1      Bob   30      M     Manager\n",
      "2  Charlie   35      M     Analyst\n",
      "3    David   40      M  Programmer\n",
      "4      Eva   22      F     Analyst\n",
      "5    Frank   28      M     Manager\n",
      "6    Grace   33      F  Programmer\n",
      "7    Helen   45      F     Manager\n",
      "8      Ian   26      M     Analyst\n",
      "9     Jane   38      F  Programmer\n"
     ]
    }
   ],
   "source": [
    "# Exercise 7\n",
    "csv_path = \"people_data.csv\"\n",
    "df.to_csv(csv_path, index=False)\n",
    "\n",
    "# Read CSV\n",
    "df_read = pd.read_csv(csv_path)\n",
    "print(\"\\nExercise 7 - Read CSV:\\n\", df_read)\n"
   ]
  },
  {
   "cell_type": "code",
   "execution_count": null,
   "metadata": {},
   "outputs": [],
   "source": []
  }
 ],
 "metadata": {
  "kernelspec": {
   "display_name": "base",
   "language": "python",
   "name": "python3"
  },
  "language_info": {
   "codemirror_mode": {
    "name": "ipython",
    "version": 3
   },
   "file_extension": ".py",
   "mimetype": "text/x-python",
   "name": "python",
   "nbconvert_exporter": "python",
   "pygments_lexer": "ipython3",
   "version": "3.12.3"
  }
 },
 "nbformat": 4,
 "nbformat_minor": 2
}
